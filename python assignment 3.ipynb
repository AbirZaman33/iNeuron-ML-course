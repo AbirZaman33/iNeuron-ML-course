{
 "cells": [
  {
   "cell_type": "code",
   "execution_count": 1,
   "metadata": {},
   "outputs": [
    {
     "data": {
      "text/plain": [
       "5"
      ]
     },
     "execution_count": 1,
     "metadata": {},
     "output_type": "execute_result"
    }
   ],
   "source": [
    "2+3\n"
   ]
  },
  {
   "cell_type": "markdown",
   "metadata": {},
   "source": [
    "# 1.1 Write a Python Program to implement your own myreduce() function which works exactly like Python's built-in function reduce()"
   ]
  },
  {
   "cell_type": "code",
   "execution_count": 12,
   "metadata": {},
   "outputs": [
    {
     "name": "stdout",
     "output_type": "stream",
     "text": [
      "input :\n",
      "enter number : 5\n",
      "output: \n",
      "sum till : [1, 2, 3, 4, 5]\n",
      "sum is :  15\n"
     ]
    }
   ],
   "source": [
    "num_range= list(range(1,number+1))\n",
    "def myreduce(num_range):\n",
    "    \n",
    "    sum_is=0\n",
    "    \n",
    "    for i in num_range:\n",
    "        sum_is=sum_is+i\n",
    "        \n",
    "    return num_range,sum_is\n",
    "\n",
    "print(\"input :\")\n",
    "number=int(input(\"enter number : \"))\n",
    "\n",
    "output_is=myreduce(num_range)\n",
    "\n",
    "print(\"output: \")\n",
    "print(\"sum till :\",output_is[0])\n",
    "print(\"sum is : \",output_is[1])"
   ]
  },
  {
   "cell_type": "markdown",
   "metadata": {},
   "source": [
    "built_in_reduce"
   ]
  },
  {
   "cell_type": "code",
   "execution_count": 7,
   "metadata": {},
   "outputs": [
    {
     "name": "stdout",
     "output_type": "stream",
     "text": [
      "input :\n",
      "enter number : 5\n",
      "output: \n",
      "sum till : [1, 2, 3, 4, 5]\n",
      "sum is :  15\n"
     ]
    }
   ],
   "source": [
    "#built_in_reduce\n",
    "\n",
    "print(\"input :\")\n",
    "number=int(input(\"enter number : \"))\n",
    "\n",
    "num_list=list(range(1,number+1))\n",
    "#import reduce\n",
    "from functools import reduce\n",
    "sum_is=reduce((lambda x,y:x+y),num_list)\n",
    "\n",
    "\n",
    "print(\"output: \")\n",
    "print(\"sum till :\",num_list)\n",
    "print(\"sum is : \",sum_is)"
   ]
  },
  {
   "cell_type": "markdown",
   "metadata": {},
   "source": [
    "# 1.2 Write a Python program to implement your own myfilter() function which works exactly like Python's built-in function filter()"
   ]
  },
  {
   "cell_type": "code",
   "execution_count": 13,
   "metadata": {},
   "outputs": [
    {
     "name": "stdout",
     "output_type": "stream",
     "text": [
      "input :\n",
      "enter number till count : 20\n",
      "output:\n",
      "evens multiplies of 5 : [10, 20]\n",
      "odds multiplies of 5 : [5, 15]\n"
     ]
    }
   ],
   "source": [
    "#filter odd and even multiplied by 5\n",
    "print(\"input :\")\n",
    "number=int(input(\"enter number till count : \"))\n",
    "\n",
    "num_range=list(range(1,number+1))\n",
    "\n",
    "def myfilter(num_range):\n",
    "    even=[]\n",
    "    odd= []\n",
    "    for i in num_range:\n",
    "        if (i%5==0):\n",
    "            if (i%2==0):\n",
    "                even.append(i)\n",
    "            else:\n",
    "                odd.append(i)\n",
    "    return even,odd\n",
    "\n",
    "output_is=myfilter(num_range)\n",
    "\n",
    "\n",
    "print(\"output:\")\n",
    "print(\"evens multiplies of 5 :\",output_is[0])\n",
    "print(\"odds multiplies of 5 :\",output_is[1])\n"
   ]
  },
  {
   "cell_type": "markdown",
   "metadata": {},
   "source": [
    "built in filter\n"
   ]
  },
  {
   "cell_type": "code",
   "execution_count": 15,
   "metadata": {},
   "outputs": [
    {
     "name": "stdout",
     "output_type": "stream",
     "text": [
      "input :\n",
      "enter number till count : 25\n",
      "output:\n",
      "evens multiplies of 5 : [10, 20]\n",
      "odds multiplies of 5 : [5, 15, 25]\n"
     ]
    }
   ],
   "source": [
    "#built in filter\n",
    "\n",
    "print(\"input :\")\n",
    "number=int(input(\"enter number till count : \"))\n",
    "\n",
    "num_range=list(range(1,number+1))\n",
    "\n",
    "\n",
    "even=list(filter(lambda x: x%2==0,list(filter(lambda x:x%5==0,num_range))))\n",
    "\n",
    "odd=list(filter(lambda x: x%2!=0,list(filter(lambda x:x%5==0,num_range))))\n",
    "\n",
    "print(\"output:\")\n",
    "print(\"evens multiplies of 5 :\",even)\n",
    "print(\"odds multiplies of 5 :\",odd)\n"
   ]
  },
  {
   "cell_type": "markdown",
   "metadata": {},
   "source": [
    "#  2.Implement List comprehensions to produce the following lists. Write List comprehensions to produce the following Lists ['A', 'C', 'A', 'D', 'G', 'I', ’L’, ‘ D’] ['x', 'xx', 'xxx', 'xxxx', 'y', 'yy', 'yyy', 'yyyy', 'z', 'zz', 'zzz', 'zzzz'] ['x', 'y', 'z', 'xx', 'yy', 'zz', 'xxx', 'yyy', 'zzz', 'xxxx', 'yyyy', 'zzzz'] [[2], [3], [4], [3], [4], [5], [4], [5], [6]] [[2, 3, 4, 5], [3, 4, 5, 6], [4, 5, 6, 7], [5, 6, 7, 8]] [(1, 1), (2, 1), (3, 1), (1, 2), (2, 2), (3, 2), (1, 3), (2, 3), (3, 3)]"
   ]
  },
  {
   "cell_type": "code",
   "execution_count": 51,
   "metadata": {},
   "outputs": [
    {
     "name": "stdout",
     "output_type": "stream",
     "text": [
      "output: \n",
      "['A', 'C', 'A', 'D', 'G', 'I', 'L', 'D']\n",
      "['x', 'xx', 'xxx', 'xxxx', 'y', 'yy', 'yyy', 'yyyy', 'z', 'zz', 'zzz', 'zzzz']\n",
      "['x', 'y', 'z', 'xx', 'yy', 'zz', 'xxx', 'yyy', 'zzz', 'xxxx', 'yyyy', 'zzzz']\n",
      "[[2], [3], [4], [3], [4], [5], [4], [5], [6]]\n",
      "[[2, 3, 4, 5], [3, 4, 5, 6], [4, 5, 6, 7], [5, 6, 7, 8]]\n",
      "[(1, 1), (2, 1), (3, 1), (1, 2), (2, 2), (3, 2), (1, 3), (2, 3), (3, 3)]\n"
     ]
    }
   ],
   "source": [
    "#1\n",
    "\n",
    "word_1=\"acadgild\"\n",
    "\n",
    "output=[w.upper()for w in list(word_1)]\n",
    "print(\"output: \")\n",
    "print(output)\n",
    "\n",
    "\n",
    "#2\n",
    "\n",
    "word_2=list(\"xyz\")\n",
    "word_2_ans=[x*n for x in word_2 for n in range(1,5)]\n",
    "print(word_2_ans)\n",
    "\n",
    "\n",
    "#3\n",
    "\n",
    "word_3_ans=[x*n for n in range(1,5) for x in word_2  ]\n",
    "print(word_3_ans)\n",
    "\n",
    "\n",
    "#4\n",
    "word_4=[2,3,4]\n",
    "word_4_ans=[[x+n] for n in range(0,3) for x in word_4 ]\n",
    "print(word_4_ans)\n",
    "\n",
    "#5\n",
    "\n",
    "word_5=[2,3,4,5]\n",
    "word_5_ans=[[x+n for n in range(0,4)] for x in word_5 ]\n",
    "print(word_5_ans)\n",
    "\n",
    "\n",
    "\n",
    "\n",
    "#6\n",
    "word_6=[1,2,3]\n",
    "word_6_ans=[(y,x) for x in word_6 for y in word_6]\n",
    "print(word_6_ans)\n",
    "\n",
    "\n",
    "\n",
    "\n",
    "\n",
    "\n",
    "\n",
    "\n",
    "\n",
    "\n",
    "\n",
    "\n",
    "\n"
   ]
  },
  {
   "cell_type": "code",
   "execution_count": null,
   "metadata": {},
   "outputs": [],
   "source": []
  }
 ],
 "metadata": {
  "kernelspec": {
   "display_name": "Python 3",
   "language": "python",
   "name": "python3"
  },
  "language_info": {
   "codemirror_mode": {
    "name": "ipython",
    "version": 3
   },
   "file_extension": ".py",
   "mimetype": "text/x-python",
   "name": "python",
   "nbconvert_exporter": "python",
   "pygments_lexer": "ipython3",
   "version": "3.8.5"
  }
 },
 "nbformat": 4,
 "nbformat_minor": 4
}
